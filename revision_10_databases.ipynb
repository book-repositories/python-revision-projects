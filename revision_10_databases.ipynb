{
  "nbformat": 4,
  "nbformat_minor": 0,
  "metadata": {
    "colab": {
      "private_outputs": true,
      "provenance": [],
      "authorship_tag": "ABX9TyPD25l0Gw9wOu2AARX+J7tB",
      "include_colab_link": true
    },
    "kernelspec": {
      "name": "python3",
      "display_name": "Python 3"
    },
    "language_info": {
      "name": "python"
    }
  },
  "cells": [
    {
      "cell_type": "markdown",
      "metadata": {
        "id": "view-in-github",
        "colab_type": "text"
      },
      "source": [
        "<a href=\"https://colab.research.google.com/github/michael-borck/isys2001-revision/blob/main/revision_10_databases.ipynb\" target=\"_parent\"><img src=\"https://colab.research.google.com/assets/colab-badge.svg\" alt=\"Open In Colab\"/></a>"
      ]
    },
    {
      "cell_type": "markdown",
      "source": [
        "### Databases\n",
        "\n",
        "Using the SQLite3 database file 'fitness.db'\n",
        "\n",
        "1. **Connecting to a SQLite3 Database**\n",
        "    Write the Python code to connect to the SQLite Fitness database?\n",
        "\n",
        "2. **Executing a 'SELECT' SQL Statement**\n",
        "   Write the 'SELECT' SQL statement to retrieve all fields from a table named 'fitness'?\n",
        "   \n",
        "3. **Loading the Entire Table into a Pandas DataFrame**\n",
        "   Write the Python code to convert a SQL query result into a Pandas DataFrame?\n",
        "   \n",
        "4. **Checking the DataFrame for Missing Values**\n",
        "   Write the Python code to check for missing values in your DataFrame?\n",
        " \n",
        "5. **Handling Missing Values**\n",
        "   Given the context of your data (duration, pulse, max-pulse, and calories), what would be an appropriate strategy to handle missing values?\n",
        "   \n",
        "6. **Displaying the Cleaned DataFrame**\n",
        "   Write the Python code to display the first few rows of your cleaned DataFrame?\n",
        "   \n",
        "7. **Saving the Cleaned DataFrame as a CSV file**\n",
        "   Write the Python code to save your DataFrame to a CSV file using Pandas?\n",
        "   \n",
        "8. **Closing the Database Connection**\n",
        "   Write the Python code to close your SQLite database connection?"
      ],
      "metadata": {
        "id": "iOArukCvnGar"
      }
    },
    {
      "cell_type": "code",
      "source": [],
      "metadata": {
        "id": "DonYIInpnISF"
      },
      "execution_count": null,
      "outputs": []
    }
  ]
}