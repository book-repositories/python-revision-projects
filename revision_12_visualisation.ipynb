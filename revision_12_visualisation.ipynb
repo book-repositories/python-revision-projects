{
  "nbformat": 4,
  "nbformat_minor": 0,
  "metadata": {
    "colab": {
      "private_outputs": true,
      "provenance": [],
      "authorship_tag": "ABX9TyMHUd86wmQvxPunSAUKIicq",
      "include_colab_link": true
    },
    "kernelspec": {
      "name": "python3",
      "display_name": "Python 3"
    },
    "language_info": {
      "name": "python"
    }
  },
  "cells": [
    {
      "cell_type": "markdown",
      "metadata": {
        "id": "view-in-github",
        "colab_type": "text"
      },
      "source": [
        "<a href=\"https://colab.research.google.com/github/michael-borck/isys2001-revision/blob/main/revision_12_visualisation.ipynb\" target=\"_parent\"><img src=\"https://colab.research.google.com/assets/colab-badge.svg\" alt=\"Open In Colab\"/></a>"
      ]
    },
    {
      "cell_type": "markdown",
      "source": [
        "### Visualisation in Pytohn\n",
        "\n",
        "1.  Load a dataset from the Seaborn library. List the columns of this dataset and print the first five rows. *Hint: Try tips, exercise or iris dataset*\n",
        "\n",
        "2. Using the dataset loaded in Question 1, identify the variable types (numeric, categorical).\n",
        "\n",
        "3. Using Pandas, find the mean, median, and standard deviation of one of the numeric columns in the dataset from Question 1. \n",
        "\n",
        "4. Create a new DataFrame from the dataset in Question 1, including only two specific columns. Show the head of the new DataFrame.\n",
        "\n",
        "5. Using the DataFrame created in Question 4, create a line plot using Seaborn. Make sure the x and y axes are appropriately labeled.\n",
        "\n",
        "6. Still using the DataFrame created in Question 4, create a bar chart for one of the categorical variables. Make sure the x and y axes are appropriately labeled.\n",
        "\n",
        "7. Using the original dataset from Question 1, create a histogram for one of the numeric variables. Set the number of bins to 20.\n",
        "\n",
        "8. Using the original dataset, determine the correlation between two numeric variables of your choice. Represent this correlation graphically using a scatter plot.\n",
        "\n",
        "9. Using the dataset from Question 1, create a boxplot for a numerical column grouped by a categorical column.\n",
        "\n",
        "10. Using the DataFrame from Question 1, save the DataFrame to a CSV file. \n",
        "\n",
        "11. Using the DataFrame from Question 1, save the DataFrame to a SQLite3 database."
      ],
      "metadata": {
        "id": "9gajb47Vworb"
      }
    },
    {
      "cell_type": "code",
      "source": [],
      "metadata": {
        "id": "bpfSbyYMxWf4"
      },
      "execution_count": null,
      "outputs": []
    }
  ]
}