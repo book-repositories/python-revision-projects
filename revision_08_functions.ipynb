{
  "nbformat": 4,
  "nbformat_minor": 0,
  "metadata": {
    "colab": {
      "private_outputs": true,
      "provenance": [],
      "authorship_tag": "ABX9TyMAtpE+H88WIhJLPQzSgdW7",
      "include_colab_link": true
    },
    "kernelspec": {
      "name": "python3",
      "display_name": "Python 3"
    },
    "language_info": {
      "name": "python"
    }
  },
  "cells": [
    {
      "cell_type": "markdown",
      "metadata": {
        "id": "view-in-github",
        "colab_type": "text"
      },
      "source": [
        "<a href=\"https://colab.research.google.com/github/michael-borck/isys2001-revision/blob/main/revision_08_functions.ipynb\" target=\"_parent\"><img src=\"https://colab.research.google.com/assets/colab-badge.svg\" alt=\"Open In Colab\"/></a>"
      ]
    },
    {
      "cell_type": "markdown",
      "source": [
        "#### Understanding Functions\n",
        "\n",
        "1. Define a function called `greeting` that takes no parameters and prints \"Hello, world!\" when called.\n",
        "\n",
        "2. Define a function called `add_numbers` that takes two parameters `a` and `b` and returns their sum.\n",
        "\n",
        "3. Define a function called `get_square` that takes one parameter `num` and returns the square of that number.\n",
        "\n",
        "4. Define a function called `calculate_average` that takes a list of numbers as a parameter and returns the average of those numbers.\n",
        "\n",
        "5. Define a function called `is_even` that takes one parameter `num` and returns `True` if the number is even, and `False` otherwise.\n",
        "\n",
        "6. Define a function called `get_max` that takes two parameters `a` and `b` and returns the maximum of the two numbers.\n",
        "\n",
        "7. Define a function called `count_vowels` that takes a string as a parameter and returns the count of vowels (a, e, i, o, u) in that string.\n",
        "\n",
        "8. Define a function called `is_palindrome` that takes a string as a parameter and returns `True` if the string is a palindrome (reads the same forward and backward), and `False` otherwise.\n",
        "\n",
        "9. Define a function called `get_factorial` that takes one parameter `n` and returns the factorial of that number. Assume the input will be a non-negative integer.\n",
        "\n",
        "10. Define a function called `print_pattern` that takes one parameter `rows` and prints a pattern of asterisks (*) in the shape of a right triangle. The pattern should have `rows` number of lines, with each line containing the corresponding number of asterisks.\n",
        "\n",
        "Example:\n",
        "Input: `rows = 5`\n",
        "Output:\n",
        "```\n",
        "*\n",
        "**\n",
        "***\n",
        "****\n",
        "*****\n",
        "```"
      ],
      "metadata": {
        "id": "JFp8gOxifJ1-"
      }
    },
    {
      "cell_type": "code",
      "source": [],
      "metadata": {
        "id": "LG6S73G-fSk4"
      },
      "execution_count": null,
      "outputs": []
    }
  ]
}