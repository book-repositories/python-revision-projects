{
  "nbformat": 4,
  "nbformat_minor": 0,
  "metadata": {
    "colab": {
      "private_outputs": true,
      "provenance": [],
      "authorship_tag": "ABX9TyMOzCBPFsys/Nv/5Hn7JHoo",
      "include_colab_link": true
    },
    "kernelspec": {
      "name": "python3",
      "display_name": "Python 3"
    },
    "language_info": {
      "name": "python"
    }
  },
  "cells": [
    {
      "cell_type": "markdown",
      "metadata": {
        "id": "view-in-github",
        "colab_type": "text"
      },
      "source": [
        "<a href=\"https://colab.research.google.com/github/michael-borck/isys2001-revision/blob/main/revision_03_data_types_variables.ipynb\" target=\"_parent\"><img src=\"https://colab.research.google.com/assets/colab-badge.svg\" alt=\"Open In Colab\"/></a>"
      ]
    },
    {
      "cell_type": "markdown",
      "source": [
        "#### Determine the Data Type\n",
        "\n",
        "1. Find the data type of ```a``` if ```a=8```\n",
        "\n",
        "2. Find the data type of ```a``` if ```a=8.```\n",
        "\n",
        "3. Find the data type of ```a``` if ```a='8.'```\n",
        "\n",
        "4. Find the data type of ```a``` if ```a=(8)```\n",
        "\n",
        "5. Find the data type of ```a``` if ```a=False```\n",
        "\n",
        "6. Find the data type of ```a``` if ```a=[1,2,8]```\n",
        "\n",
        "7. Find the data type of ```a``` if ```a=(1,2,8)```\n",
        "\n",
        "8. Find the data type of ```a``` if ```a={'key': 8}```"
      ],
      "metadata": {
        "id": "S8J8MLzgLfss"
      }
    },
    {
      "cell_type": "markdown",
      "source": [
        "#### Numeric Data Types\n",
        "\n",
        "9.  Set ```a=1``` and ```b=2```. What data type is ```a/b```?\n",
        "\n",
        "10. Set ```a=1``` and ```b=2```. What data type is ```a*b```?\n",
        "\n",
        "11. What is ```5.1``` plus ```0 + 3j```?\n",
        "\n",
        "12. What floating point number converts to the boolean ```False```? Show this in code using the ```bool()``` function.\n",
        "\n",
        "13. Create the floating point number $0.001 \\times 10^{-0.2}$ and assign it to the variable ```b```.\n"
      ],
      "metadata": {
        "id": "O4vQpieOMCR8"
      }
    },
    {
      "cell_type": "markdown",
      "source": [
        "#### Strings\n",
        "\n",
        "14. Define a string that contains the word $Introduction$.\n",
        "\n",
        "15. Define one string as the word $Problem$ and define another string as the word $Solving$. Combine these two strings to make the statement $Problem \\ Solving$.\n",
        "\n",
        "  (a) Define a string that contains the number $8$ and a string that contains the number $5$. Combine these two strings with the plus operator ```+```.\n",
        "\n",
        "  (b) Define an integer as the number $8$ and an integer as the number $5$ and combine these two integers with the plus operator ```+```\n",
        " \n",
        "  (c) Explain why the output from (a) was different from the output of (b)\n",
        " \n",
        "  (d) Multiply the string $8$ and the string $5$ with the multiplication operator ```*```.  Compare the output to multiplying the integers $8$ and the integer $5$. Why is the output different?\n",
        "\n",
        "16. Complete the following index and slicing operations after ```word = 'Problem'``` is defined.\n",
        "\n",
        "  (a) Pull out the letter $P$ from ```word```\n",
        "\n",
        "  (b) Pull out the first three letters $Pro$ from ```word```\n",
        "\n",
        "  (c) Pull out the second through the fourth letters $rob$ from ```word```\n",
        "\n",
        "  (d) Pull out every other letter from ```word``` starting with $P$\n",
        "\n",
        "  (e) Use indexing and slicing to ouput ```word``` backwards to produce $melborP$.\n",
        "\n",
        "17. Define the strings below:\n",
        "\n",
        "  (a) Define a string ```a``` as _coffee_,  define a string ```b``` as _it's_, define a string ```c``` as _hot!_ and string ```d``` as , (a comma).\n",
        " \n",
        "  (b) Combine the strings ```a```, ```b```, ```c``` and ```d``` to produce the string _coffee, it's hot_ (notice the comma)\n",
        " \n",
        "  (c) Print out the statement _she said \"coffee, it's hot\"_ using the variables ```a```, ```b```, ```c``` and ```d```.\n",
        " \n",
        "18. Convert the string ```Problem``` to the list ```['P','r','o','b','l','e','m']``` without writing the list from scratch.\n",
        "\n",
        "19. Use the string ```business programming``` and slicing to produce the following words:\n",
        "\n",
        "  (a) ```bussines```\n",
        "\n",
        "  (b) ```programming```\n",
        "\n",
        "  (c) ```bus```"
      ],
      "metadata": {
        "id": "RLyfKG3SMnFF"
      }
    },
    {
      "cell_type": "markdown",
      "source": [
        "#### Lists\n",
        "\n",
        "20. Create a list that contains the numbers $8$, $8.8$, and the word $eight$.\n",
        "\n",
        "21. Create a list that contains the words $business$, $programming$, $with$, $python$.\n",
        "\n",
        "22. Create a list with one value, the number $6$. Convert the list to a boolean with the ```bool()``` function.\n",
        "\n",
        "23. Create an empty list. Convert the empty list to a boolean with the ```bool()``` function.\n",
        "\n",
        "24. Create a list with the letters $C$, $D$, and $R$. Pull the letters $C$ and $D$ out of your list with indexing.\n",
        "\n",
        "25. Create a list with the numbers $1$ to $10$ (counting by ones). Use slicing to pull out the number $5$ from the list."
      ],
      "metadata": {
        "id": "Tt3KZTpqOFSO"
      }
    },
    {
      "cell_type": "markdown",
      "source": [
        "#### Dictionaries\n",
        "\n",
        "26. Create a dictionary called ```capitals``` that contains the states and state capitals. Include ```Westerna Australia```, capital ```Perth``` and ```Queensland```, capital ```Brisbane```.\n",
        "\n",
        "27. Create a dictionary ```numbers = {'one':1, 'two':2, 'three':3}```. Pull out the number ```'2'``` by calling the key ```'two'```.\n",
        "\n",
        "28. Create a dictionary ```colors = {'red':'\t#FF0000', 'green':'#008000', 'blue':'#0000FF'}```. Pull out all the keys and add them to a list called ```colors_list``` with the ```.keys()``` method.\n",
        "\n",
        "29. Create a dictionary ```colors = {'red':'\t#FF0000', 'green':'#008000', 'blue':'#0000FF'}```. Pull out all the values and add them to a list called ```colors_hex``` with the ```.values()``` method.\n",
        "\n",
        "30. Create a dictionary ```colors = {'red':'\t#FF0000', 'green':'#008000', 'blue':'#0000FF'}```. Pull out all the items from the dictionary and add them to a list called ```color_items``` with the ```.items()``` method."
      ],
      "metadata": {
        "id": "suPVu5a8O8ey"
      }
    },
    {
      "cell_type": "code",
      "source": [],
      "metadata": {
        "id": "x629dIkhLx9a"
      },
      "execution_count": null,
      "outputs": []
    }
  ]
}