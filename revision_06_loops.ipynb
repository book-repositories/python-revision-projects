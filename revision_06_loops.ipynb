{
  "nbformat": 4,
  "nbformat_minor": 0,
  "metadata": {
    "colab": {
      "private_outputs": true,
      "provenance": [],
      "authorship_tag": "ABX9TyPsQN/o7KQYIk9uFSg81+w8",
      "include_colab_link": true
    },
    "kernelspec": {
      "name": "python3",
      "display_name": "Python 3"
    },
    "language_info": {
      "name": "python"
    }
  },
  "cells": [
    {
      "cell_type": "markdown",
      "metadata": {
        "id": "view-in-github",
        "colab_type": "text"
      },
      "source": [
        "<a href=\"https://colab.research.google.com/github/michael-borck/isys2001-revision/blob/main/revision_06_loops.ipynb\" target=\"_parent\"><img src=\"https://colab.research.google.com/assets/colab-badge.svg\" alt=\"Open In Colab\"/></a>"
      ]
    },
    {
      "cell_type": "markdown",
      "source": [
        "#### Loops\n",
        "\n",
        "1. Create a for loops to print out the numbers 1 to 10.\n",
        "\n",
        "2. Create a for loop to print out the number -1 to -10 starting at -1 and ending at -10.\n",
        "\n",
        "3. Create a for loop to print out all the letters in the word ```'programming'```\n",
        "\n",
        "4. Use a for loop to sum the elements in the list ```[1,3,5,8,12]```. Print the sum to the user.\n",
        "\n",
        "5. This problem is about _Fizz Buzz_, a programming task that is sometimes used in interviews.\n",
        "\n",
        "  (a) Use a for loop to print out the numbers 1 to 30\n",
        "\n",
        "  (b) Use a for loop to print out all the numbers 1 to 30, but leave out any number which is divisible by 3, such as 3, 6 and 9.\n",
        "\n",
        "  (c) Use a for loop to print out all the numbers 1 to 30, but leave out any number which is divisible by 5, such as 5, 10 and 15.\n",
        "\n",
        "  (d) Use a for loop to print out all the numbers 1 to 30, but insert the word ```fizz``` for any number that is divisible by 3, insert the word ```buzz``` for any number that is divisible by 5 and insert the word ```fizz buzz``` for any numbers that are both divisible by 3 and 5, like 15.\n",
        "\n",
        "6. Imagine you can see the future of investing and over the next four years, the interest rate of return on investments is going to be 0.02, 0.03, 0.015, 0.06. Prompt the user for an initial investment with Python's ```input(_)``` function and use the formula below to calculate how much the investment will be worth after four years.\n",
        "\n",
        "  *new balance = old balance + old balance $\\times$ interest rate*\n",
        "\n",
        "  Note the first \"old balance\" is the person's initial investment.\n",
        "\n",
        "7. An employee starts with an annual salary of 58 thousand dollars. Print out the employees salary each year for five years if the employee receives a 2.5 percent (0.02) raise each year.\n",
        "\n",
        "8. Use Python's ```input()``` function to ask a user for an integer between 1 and 10. Then use a for loop to print out all of the multiples of that number between 1 and 100. Use your program to print out all of the multiples of 9 between 1 and 100.\n",
        "\n",
        "9. Use a for loop to ask a user for five numbers. Use another for loop to print out the largest of the five numbers back to the user.\n",
        "\n",
        "10. Use a for loop to ask a user for three exam grades. Print back to the user the average of the three grades.\n",
        "\n",
        "11. Use a for loop to ask a user for 10 numbers. Print back the the user the mean, median and mode of the numbers. Hint: Python's ```statistics``` module is part of the Standard Library. ```statistics.mean()```, ```statistics.median()``` and ```statistics.mode()``` are three functions present in the ```statistics``` module.\n",
        "\n",
        "12. Write a program that requests a word from a user and then counts the number of vowels in the word. The English vowels are ```a, e, i, o, u, y```. Hint: the code ```'a' in ['a','e','i','o','u','y']``` and ```'a' in 'aeiouy'``` both return ```True```."
      ],
      "metadata": {
        "id": "QHMVVwsPWM3M"
      }
    },
    {
      "cell_type": "code",
      "source": [],
      "metadata": {
        "id": "z-j7BIBrXUuL"
      },
      "execution_count": null,
      "outputs": []
    }
  ]
}