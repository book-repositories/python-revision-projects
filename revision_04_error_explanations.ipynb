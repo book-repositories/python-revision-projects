{
  "nbformat": 4,
  "nbformat_minor": 0,
  "metadata": {
    "colab": {
      "private_outputs": true,
      "provenance": [],
      "authorship_tag": "ABX9TyOynQBpz4C8TjumVckdhD1O",
      "include_colab_link": true
    },
    "kernelspec": {
      "name": "python3",
      "display_name": "Python 3"
    },
    "language_info": {
      "name": "python"
    }
  },
  "cells": [
    {
      "cell_type": "markdown",
      "metadata": {
        "id": "view-in-github",
        "colab_type": "text"
      },
      "source": [
        "<a href=\"https://colab.research.google.com/github/michael-borck/isys2001-revision/blob/main/revision_04_error_explanations.ipynb\" target=\"_parent\"><img src=\"https://colab.research.google.com/assets/colab-badge.svg\" alt=\"Open In Colab\"/></a>"
      ]
    },
    {
      "cell_type": "markdown",
      "source": [
        "#### Errors, Explanations, and Solutions\n",
        "\n",
        "1. Run the following lines of code and explain the error in your own words. Then rewrite the lines of code to run error free:\n",
        "\n",
        "```python\n",
        "n = 503\n",
        "n[2]\n",
        "```\n",
        "\n",
        "2. Run the following lines of code and explain the error in your own words. Then rewrite the lines of code to run error free:\n",
        "\n",
        "```python\n",
        "a = 321\n",
        "b = 'go!'\n",
        "c = a + b\n",
        "```\n",
        "\n",
        "3. Run the following lines of code and explain the error in your own words. Then rewrite the lines of code to run error free:\n",
        "\n",
        "```python\n",
        "d = {one:1, two:2, three:3}\n",
        "d[one]\n",
        "```\n",
        "\n",
        "4. Run the following lines of code and explain the error in your own words. Then rewrite the lines of code to run error free:\n",
        "\n",
        "```python\n",
        "f = false\n",
        "not f\n",
        "```\n",
        "\n",
        "5. Run the following lines of code and explain the error in your own words. Then rewrite the lines of code to run error free:\n",
        "\n",
        "```python\n",
        "comp = 0.1 - 4.3i\n",
        "comp + 5\n",
        "```\n",
        "\n",
        "6. Run the following lines of code and explain the error in your own words. Then rewrite the lines of code to run error free:\n",
        "\n",
        "```python\n",
        "empty = ''\n",
        "bool(empty)\n",
        "```\n",
        "\n",
        "7. Run the following lines of code and explain the error in your own words. Then rewrite the lines of code to run error free:\n",
        "\n",
        "```python\n",
        "lst = [1,3,5]\n",
        "lst[3]\n",
        "```\n",
        "\n",
        "8. Run the following lines of code and explain the error in your own words. Then rewrite the lines of code to run error free:\n",
        "\n",
        "```python\n",
        "dict = ['key': 8, 'pair': 9]\n",
        "dict['key']\n",
        "```\n",
        "\n",
        "9. Run the following lines of code and explain the error in your own words. Then rewrite the lines of code to run error free:\n",
        "\n",
        "```python\n",
        "s = ['Problem Solving']\n",
        "s[8:]\n",
        "```"
      ],
      "metadata": {
        "id": "EQjlRHL6Sk8z"
      }
    },
    {
      "cell_type": "code",
      "source": [],
      "metadata": {
        "id": "CeD32dZZTGrT"
      },
      "execution_count": null,
      "outputs": []
    }
  ]
}