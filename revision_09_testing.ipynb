{
  "nbformat": 4,
  "nbformat_minor": 0,
  "metadata": {
    "colab": {
      "private_outputs": true,
      "provenance": [],
      "authorship_tag": "ABX9TyPLHgFGZ/i6zQpwhJqEubB4",
      "include_colab_link": true
    },
    "kernelspec": {
      "name": "python3",
      "display_name": "Python 3"
    },
    "language_info": {
      "name": "python"
    }
  },
  "cells": [
    {
      "cell_type": "markdown",
      "metadata": {
        "id": "view-in-github",
        "colab_type": "text"
      },
      "source": [
        "<a href=\"https://colab.research.google.com/github/michael-borck/isys2001-revision/blob/main/revision_09_testing.ipynb\" target=\"_parent\"><img src=\"https://colab.research.google.com/assets/colab-badge.svg\" alt=\"Open In Colab\"/></a>"
      ]
    },
    {
      "cell_type": "markdown",
      "source": [
        "### Testing \n",
        "\n",
        "1. The following function appears to be working but contains an error.  Write some test cases using `assert` or `Doctest` to determine the error and fix the code so it performs as required. *Hint:  try Istanbul (has 3 vowels)* "
      ],
      "metadata": {
        "id": "dNZr2VONhOAV"
      }
    },
    {
      "cell_type": "code",
      "source": [
        "def count_vowels(word):\n",
        "    \"\"\"\n",
        "    Given a single word, return the total number of vowels in that single word.\n",
        "\n",
        "    >>> count_vowels('Cusco')\n",
        "    2\n",
        "    \"\"\"\n",
        "    total_vowels = 0\n",
        "    for letter in word:\n",
        "        if letter in 'aeiou':\n",
        "            total_vowels += 1\n",
        "    return total_vowels"
      ],
      "metadata": {
        "id": "NCoqFzZShPL1"
      },
      "execution_count": null,
      "outputs": []
    },
    {
      "cell_type": "markdown",
      "source": [
        "2. The following function appears to be working but contains an error.  Write some test cases using `assert` or `Doctest` to determine the error and fix the code so it performs as required."
      ],
      "metadata": {
        "id": "owI2MKLciDgw"
      }
    },
    {
      "cell_type": "code",
      "source": [
        "def calculate_average(numbers):\n",
        "  \"\"\" Given a list of numbers return the average\"\"\"\n",
        "  total = sum(numbers)\n",
        "  average = total / len(numbers)\n",
        "  return average\n"
      ],
      "metadata": {
        "id": "bchfUKw8hUxs"
      },
      "execution_count": null,
      "outputs": []
    },
    {
      "cell_type": "markdown",
      "source": [
        "2. The following function appears to be working but contains an error.  Write some test cases using `assert` or `Doctest` to determine the error and fix the code so it performs as required."
      ],
      "metadata": {
        "id": "afos9UgiiqIT"
      }
    },
    {
      "cell_type": "code",
      "source": [
        "def get_max_number(numbers):\n",
        "    \"\"\"Retun the max number in a list\"\"\"\n",
        "    max_number = numbers[0]\n",
        "    for number in numbers:\n",
        "        if number > max_number:\n",
        "            max_number = number\n",
        "    return max_number"
      ],
      "metadata": {
        "id": "5OeSFzTHirFT"
      },
      "execution_count": null,
      "outputs": []
    },
    {
      "cell_type": "markdown",
      "source": [
        "3. The following function contains an error. Test and fix the function."
      ],
      "metadata": {
        "id": "jbXNEJgnju9v"
      }
    },
    {
      "cell_type": "code",
      "source": [
        "def reverse_string(string):\n",
        "    reversed_string = \"\"\n",
        "    for i in range(len(string), -1, -1):\n",
        "        reversed_string += string[i]\n",
        "    return reversed_string\n"
      ],
      "metadata": {
        "id": "QzPlNQJ0jbXM"
      },
      "execution_count": null,
      "outputs": []
    }
  ]
}