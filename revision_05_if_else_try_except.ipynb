{
  "nbformat": 4,
  "nbformat_minor": 0,
  "metadata": {
    "colab": {
      "private_outputs": true,
      "provenance": [],
      "authorship_tag": "ABX9TyMBVb1J0NDk4QIdUsFi6V8e",
      "include_colab_link": true
    },
    "kernelspec": {
      "name": "python3",
      "display_name": "Python 3"
    },
    "language_info": {
      "name": "python"
    }
  },
  "cells": [
    {
      "cell_type": "markdown",
      "metadata": {
        "id": "view-in-github",
        "colab_type": "text"
      },
      "source": [
        "<a href=\"https://colab.research.google.com/github/michael-borck/isys2001-revision/blob/main/revision_05_if_else_try_except.ipynb\" target=\"_parent\"><img src=\"https://colab.research.google.com/assets/colab-badge.svg\" alt=\"Open In Colab\"/></a>"
      ]
    },
    {
      "cell_type": "markdown",
      "source": [
        "1. Create a program to ask a user for a temperature. If the temperature the user enters is below ```50```, print back the user \"It is cold outside\". Hint: remember to convert the user's input to a number before comparing the user's input to ```50```.\n",
        "\n",
        "2. Create a program that asks the user for their temperature. If the user enters a temperature above ```98.6```, print back to the user \"You have a fever\".\n",
        "\n",
        "3. Create a program that chooses a random number number between 1 and 5. Ask the user for a number between 1 and 5. Compare the user's number to the random number. If the user guessed the random number print \"you guessed it!\", if the user did not guess the random number print back to the user \"try again\". You can use the code below to choose a random number ```n``` between 1 and 5.\n",
        "\n",
        "```python\n",
        "import random\n",
        "\n",
        "n = random.randint(0,5)\n",
        "```\n",
        "\n",
        "4. Create a program that asks a user for two numbers, x and y. If the x is greater than y, print back to the user \"x>y\". If x is less than y, print back to the user \"x<y\". If x is equal to y, print back to the user \"x=y\".\n",
        "\n",
        "5. Create a program that asks the user for two numbers (use two different input lines). If the second number the user enters is zero, print back to the user \"can't divide by zero\", otherwise divide the user's first number by the user's second number and print the result to the user.\n",
        "\n",
        "6. In a college engineering class, final grades are related to percentages as follows:\n",
        "\n",
        "| percentage range | grade |\n",
        "| --- | --- |\n",
        "| 90 - 100 | A |\n",
        "| 80 - 89 | B |\n",
        "| 70 - 79 | C |\n",
        "| 65 - 69 | D |\n",
        "| 0 - 64 | F |\n",
        "\n",
        "Build a program that asks a user for a final score (in percent) and prints back to the user their letter grade.\n"
      ],
      "metadata": {
        "id": "VAJ1mdu0Tpvh"
      }
    },
    {
      "cell_type": "code",
      "source": [],
      "metadata": {
        "id": "CSBGcqYkT1JE"
      },
      "execution_count": null,
      "outputs": []
    }
  ]
}