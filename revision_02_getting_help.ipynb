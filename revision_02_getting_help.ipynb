{
  "nbformat": 4,
  "nbformat_minor": 0,
  "metadata": {
    "colab": {
      "private_outputs": true,
      "provenance": [],
      "authorship_tag": "ABX9TyMHjSEJqOK3W8PtZmHI92DQ",
      "include_colab_link": true
    },
    "kernelspec": {
      "name": "python3",
      "display_name": "Python 3"
    },
    "language_info": {
      "name": "python"
    }
  },
  "cells": [
    {
      "cell_type": "markdown",
      "metadata": {
        "id": "view-in-github",
        "colab_type": "text"
      },
      "source": [
        "<a href=\"https://colab.research.google.com/github/michael-borck/isys2001-revision/blob/main/revision_02_getting_help.ipynb\" target=\"_parent\"><img src=\"https://colab.research.google.com/assets/colab-badge.svg\" alt=\"Open In Colab\"/></a>"
      ]
    },
    {
      "cell_type": "markdown",
      "source": [
        "#### Getting Help\n",
        "\n",
        "1. Use Python's ```dir()``` function in a notebook code cell to find all the functions available in Python's ```math``` module. Remember to ```import math``` at the start of the code cell.\n",
        "\n",
        "2. In a notebook code cell, ```import math``` and run ```math.sqrt?```. Copy the contents of the help you receive in a Jupyter notebook markdown cell.\n",
        "\n",
        "2. In a notebook code cell, ```import math``` and run ```help(math.sqrt)```. Copy the contents of the help you receive in a Jupyter notebook markdown cell.\n"
      ],
      "metadata": {
        "id": "Lc2YOk-GQT8I"
      }
    }
  ]
}