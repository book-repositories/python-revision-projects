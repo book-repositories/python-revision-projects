{
  "nbformat": 4,
  "nbformat_minor": 0,
  "metadata": {
    "colab": {
      "private_outputs": true,
      "provenance": [],
      "authorship_tag": "ABX9TyNHkoj8Uq3Tz6vfWgjSfLVE",
      "include_colab_link": true
    },
    "kernelspec": {
      "name": "python3",
      "display_name": "Python 3"
    },
    "language_info": {
      "name": "python"
    }
  },
  "cells": [
    {
      "cell_type": "markdown",
      "metadata": {
        "id": "view-in-github",
        "colab_type": "text"
      },
      "source": [
        "<a href=\"https://colab.research.google.com/github/michael-borck/isys2001-revision/blob/main/revision_01_notebooks.ipynb\" target=\"_parent\"><img src=\"https://colab.research.google.com/assets/colab-badge.svg\" alt=\"Open In Colab\"/></a>"
      ]
    },
    {
      "cell_type": "markdown",
      "source": [
        "#### Code cells and markdown cells\n"
      ],
      "metadata": {
        "id": "cMiqyD28IWhV"
      }
    },
    {
      "cell_type": "markdown",
      "source": [
        "1.  Run the following code in two different notebook cells. Run one cell as a code cell. Run the other cell as a Text/Markdown cell. Why is the output different?\n",
        "\n",
        "```text\n",
        "# Introduction to Business Programming\n",
        "```"
      ],
      "metadata": {
        "id": "HFTCRKvWKgHN"
      }
    },
    {
      "cell_type": "markdown",
      "source": [
        "\n",
        "2. Run the following code in two different Jupyter notebook cells. Run one cell as a code cell. Run the other cell as a Markdown cell. Why is the output different?\n",
        "\n",
        "```text\n",
        "print('Introduction to Business Programming')\n",
        "```"
      ],
      "metadata": {
        "id": "lxJtLCx7J5xH"
      }
    },
    {
      "cell_type": "markdown",
      "source": [
        "#### Markdown cells\n",
        "\n",
        "\n"
      ],
      "metadata": {
        "id": "6CSuMzSMI5vf"
      }
    },
    {
      "cell_type": "markdown",
      "source": [
        "3. Recreate the following headings in one Jupyter notebook markdown cell:\n",
        "\n",
        "```text\n",
        "# BIG heading\n",
        "\n",
        "## Big heading\n",
        "\n",
        "### SMALL heading\n",
        "\n",
        "#### small heading\n",
        "```"
      ],
      "metadata": {
        "id": "6QUZpwVvKZX-"
      }
    },
    {
      "cell_type": "markdown",
      "source": [
        "\n",
        "4.  Recreate the following bullet points in one Jupyter notebook markdown cell:\n",
        "\n",
        " * markdown cell : markdown\n",
        " * code cell: Python code\n",
        "\n"
      ],
      "metadata": {
        "id": "AY3gak6aKGjt"
      }
    },
    {
      "cell_type": "markdown",
      "source": [
        "5. Recreate the following list in one Jupyter notebook markdown cell:\n",
        "\n",
        " 1. Open Jupyter notebook\n",
        " 2. Write code\n",
        " 3. Restart Kernel & run all\n",
        " 4. Download notebook"
      ],
      "metadata": {
        "id": "NiGW0CuFKPVm"
      }
    },
    {
      "cell_type": "markdown",
      "source": [
        "#### Code cells\n",
        "\n",
        "\n",
        "\n"
      ],
      "metadata": {
        "id": "8wQnhaT7JZsq"
      }
    },
    {
      "cell_type": "markdown",
      "source": [
        "6.  Run the following code in a Jupyter notebook code cell:\n",
        "\n",
        "```text\n",
        "import this\n",
        "```"
      ],
      "metadata": {
        "id": "QqLA-H76Krwh"
      }
    },
    {
      "cell_type": "markdown",
      "source": [
        "7. Run the following code in a Jupyter notebook code cell:\n",
        "\n",
        "```text\n",
        "import sys\n",
        "print(sys.version)\n",
        "```"
      ],
      "metadata": {
        "id": "XqIVJj62Kos5"
      }
    },
    {
      "cell_type": "markdown",
      "source": [
        "8. Run the following code in a Jupyter notebook code cell:\n",
        "\n",
        "```text\n",
        "import matplotlib.pyplot as plt\n",
        "%matplotlib inline\n",
        "\n",
        "plt.plot([1,3,6,10])\n",
        "plt.show()\n",
        "```\n"
      ],
      "metadata": {
        "id": "OuHybD_rKvyu"
      }
    },
    {
      "cell_type": "markdown",
      "source": [
        "9. Run the following code in a Jupyter notebook code cell. Move the slider back and forth and observe the results.\n",
        "\n",
        "```text\n",
        "from ipywidgets import interact\n",
        "import ipywidgets as widgets\n",
        "\n",
        "def func(x):\n",
        "    return x\n",
        "    \n",
        "interact(func, x=10);\n",
        "```"
      ],
      "metadata": {
        "id": "8LXKYICZKy4S"
      }
    }
  ]
}