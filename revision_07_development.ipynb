{
  "nbformat": 4,
  "nbformat_minor": 0,
  "metadata": {
    "colab": {
      "private_outputs": true,
      "provenance": [],
      "authorship_tag": "ABX9TyOmxktklVtuk9L1g0IF1fOD",
      "include_colab_link": true
    },
    "kernelspec": {
      "name": "python3",
      "display_name": "Python 3"
    },
    "language_info": {
      "name": "python"
    }
  },
  "cells": [
    {
      "cell_type": "markdown",
      "metadata": {
        "id": "view-in-github",
        "colab_type": "text"
      },
      "source": [
        "<a href=\"https://colab.research.google.com/github/michael-borck/isys2001-revision/blob/main/revision_07_development.ipynb\" target=\"_parent\"><img src=\"https://colab.research.google.com/assets/colab-badge.svg\" alt=\"Open In Colab\"/></a>"
      ]
    },
    {
      "cell_type": "markdown",
      "source": [
        "#### Development Methodology\n",
        "\n",
        "In the context of the five-step development methodology, consider the following steps:\n",
        "\n",
        "1. State the problem clearly.\n",
        "2. Describe the input and output.\n",
        "3. Work a simple example by hand.\n",
        "4. Develop an algorithm and convert it to Python.\n",
        "5. Test solution with a variety of data.\n",
        "\n",
        "Please design two Python programs that adhere to this methodology, handle possible exceptions or errors, and ask the user to try again if the input is invalid.\n",
        "\n",
        "**Task 1**: Write a Python program to calculate the factorial of a positive integer less than or equal to 50. The program should prompt the user for input and handle cases where the input is invalid (i.e., negative, greater than 50, or not an integer). If the input is invalid, display an error message and prompt the user to try again.\n",
        "\n",
        "**Task 2**: Write a Python program to find the sum of digits in a positive integer less than or equal to 1000. Again, the program should prompt the user for input and handle cases where the input is invalid (i.e., negative, greater than 1000, or not an integer). If the input is invalid, display an error message and prompt the user to try again.\"\n",
        "\n",
        "Hints:\n",
        "\n",
        "For Task 1, consider using loops or recursion to calculate the factorial.\n",
        "\n",
        "For Task 2, consider converting the integer to a string to simplify the process of digit extraction."
      ],
      "metadata": {
        "id": "QtdlShXFcNC7"
      }
    },
    {
      "cell_type": "code",
      "source": [],
      "metadata": {
        "id": "SAeDNuJNcfNl"
      },
      "execution_count": null,
      "outputs": []
    }
  ]
}
