{
  "nbformat": 4,
  "nbformat_minor": 0,
  "metadata": {
    "colab": {
      "private_outputs": true,
      "provenance": [],
      "authorship_tag": "ABX9TyOCKJ+4UedP9jTRRHyXHPb7",
      "include_colab_link": true
    },
    "kernelspec": {
      "name": "python3",
      "display_name": "Python 3"
    },
    "language_info": {
      "name": "python"
    }
  },
  "cells": [
    {
      "cell_type": "markdown",
      "metadata": {
        "id": "view-in-github",
        "colab_type": "text"
      },
      "source": [
        "<a href=\"https://colab.research.google.com/github/michael-borck/isys2001-revision/blob/main/revision_13_user_interfaces.ipynb\" target=\"_parent\"><img src=\"https://colab.research.google.com/assets/colab-badge.svg\" alt=\"Open In Colab\"/></a>"
      ]
    },
    {
      "cell_type": "markdown",
      "source": [
        "### User Interfaces\n",
        "\n",
        "Here is a progression of practical, coding-centric questions that walk you through creating simple form-based interfaces in Jupyter notebooks using the `ipywidgets` and `SimplePyGUI` libraries.\n",
        "\n",
        "#### input()\n",
        "\n",
        "1. Create a program waits for the user to hit enter and then prints \"Hello, World!:.\n",
        "\n",
        "2. Create a program that prompts the for there'Name', and when entered, prints \"Hello, [Name]!\n",
        "    \n",
        "3. Create a program that prompots the user for multiple input fields (e.g., Name, Age, Email). You need to validate form data before submission (e.g., check if an email field contains '@') and then print all the input fields.\n",
        "\n",
        "\n",
        "#### ipywidgets\n",
        "\n",
        "1. Create a simple button using ipywidgets. Define a function that prints \"Hello, World!\" and connect it with a button click using ipywidgets? \n",
        "\n",
        "2. Build a simple form with a text input for 'Name', and a button that when clicked, prints \"Hello, [Name]!\"?\n",
        "    \n",
        "3. Create a form with multiple input fields (e.g., Name, Age, Email) and a submit button that prints all the values entered when clicked.  You need to validate form data before submission (e.g., check if an email field contains '@').\n",
        "    \n",
        "#### SimplePyGUI\n",
        "\n",
        "1. Create a simple button with SimplePyGUI that when clicked displays \"Hello, World\"\n",
        "\n",
        "2. Create a GUI that asks for a 'Name', and has a 'Submit' button which, when clicked, shows a popup with \"Hello, [Name]!\"?\n",
        "    \n",
        "3. Create a form with multiple input fields (e.g., Name, Age, Email) and a submit button that shows a popup with all the information when clicked? You need to validate form data before submission (e.g., check if an email field contains '@')."
      ],
      "metadata": {
        "id": "kFIIEu2u63KS"
      }
    },
    {
      "cell_type": "code",
      "source": [],
      "metadata": {
        "id": "OnncDYnT8DYR"
      },
      "execution_count": null,
      "outputs": []
    }
  ]
}